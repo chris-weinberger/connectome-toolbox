{
 "cells": [
  {
   "cell_type": "code",
   "execution_count": 2,
   "id": "865f024b-4e6e-4546-8ecb-630c315ed0d7",
   "metadata": {},
   "outputs": [],
   "source": [
    "import PyQt6"
   ]
  },
  {
   "cell_type": "code",
   "execution_count": 3,
   "id": "4345b98e-361a-44c4-94f6-11b040c94c13",
   "metadata": {},
   "outputs": [],
   "source": [
    "import matplotlib\n",
    "matplotlib.use(\"qtagg\")\n"
   ]
  },
  {
   "cell_type": "code",
   "execution_count": null,
   "id": "fdae2d7f",
   "metadata": {},
   "outputs": [],
   "source": []
  }
 ],
 "metadata": {
  "kernelspec": {
   "display_name": "connectome-toolbox",
   "language": "python",
   "name": "python3"
  },
  "language_info": {
   "codemirror_mode": {
    "name": "ipython",
    "version": 3
   },
   "file_extension": ".py",
   "mimetype": "text/x-python",
   "name": "python",
   "nbconvert_exporter": "python",
   "pygments_lexer": "ipython3",
   "version": "3.10.13"
  }
 },
 "nbformat": 4,
 "nbformat_minor": 5
}
